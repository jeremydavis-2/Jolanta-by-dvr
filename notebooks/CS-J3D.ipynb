{
 "cells": [
  {
   "cell_type": "code",
   "execution_count": 21,
   "metadata": {},
   "outputs": [],
   "source": [
    "import numpy as np\n",
    "from numpy.linalg import eigvals\n",
    "import matplotlib.pyplot as plt\n",
    "%matplotlib qt5\n",
    "#\n",
    "#  extend path by location of the dvr package\n",
    "#\n",
    "import sys\n",
    "sys.path.append('/home/thomas/Python')\n",
    "import dvr"
   ]
  },
  {
   "cell_type": "code",
   "execution_count": 2,
   "metadata": {},
   "outputs": [],
   "source": [
    "amu_to_au=1822.888486192\n",
    "au2cm=219474.63068\n",
    "au2eV=27.211386027\n",
    "Angs2Bohr=1.8897259886"
   ]
  },
  {
   "cell_type": "code",
   "execution_count": 19,
   "metadata": {},
   "outputs": [],
   "source": [
    "#\n",
    "#  default 1D potential has a resonance just below 7 eV\n",
    "#\n",
    "def Jolanta_1D(x, a=0.2, b=0.0, c=0.14):\n",
    "    return (a*x*x-b)*np.exp(-c*x*x)\n",
    "\n",
    "#\n",
    "#  default 3D potential has a resonance at 1.75 eV - 0.2i eV\n",
    "#\n",
    "def Jolanta_3D(r, a=0.1, b=1.2, c=0.1, l=1):\n",
    "    return (a*r**2-b)*np.exp(-c*r**2) + 0.5*l*(l+1)/r**2"
   ]
  },
  {
   "cell_type": "code",
   "execution_count": 32,
   "metadata": {},
   "outputs": [
    {
     "name": "stdout",
     "output_type": "stream",
     "text": [
      "nGrid = 250\n",
      "  1    0.01724346 au =      0.46922 eV\n",
      "  2    0.05016919 au =      1.36517 eV\n",
      "  3    0.07122177 au =      1.93804 eV\n",
      "  4    0.12020844 au =      3.27104 eV\n",
      "  5    0.19775190 au =      5.38110 eV\n"
     ]
    }
   ],
   "source": [
    "#\n",
    "#  compute DVR of T and V\n",
    "#  then show the density of states\n",
    "#  in a potential + energy-levels plot\n",
    "#\n",
    "rmin=0\n",
    "rmax=25      # grid from 0 to rmax\n",
    "thresh = 5   # maximum energy for state in the plot in eV\n",
    "ppB = 10     # grid points per Bohr\n",
    "\n",
    "nGrid=int((rmax-rmin)*ppB)\n",
    "print(\"nGrid = %d\" % nGrid)\n",
    "rs = dvr.DVRGrid(rmin, rmax, nGrid)\n",
    "Vs = Jolanta_3D(rs, a=0.1, b=1.2, c=0.1, l=1)\n",
    "Ts = dvr.KineticEnergy(1, rmin, rmax, nGrid)\n",
    "[energy, wf] = dvr.DVRDiag2(nGrid, Ts, Vs)\n",
    "\n",
    "n_ene=0\n",
    "for i in range(nGrid):\n",
    "    print(\"%3d  %12.8f au = %12.5f eV\" % (i+1, energy[i], energy[i]*au2eV))\n",
    "    n_ene += 1\n",
    "    if energy[i]*au2eV > thresh:\n",
    "        break\n",
    "\n",
    "# \"DVR normalization\", sum(wf[:,0]**2)\n",
    "# this is correct for plotting\n",
    "\n",
    "c=[\"orange\", \"blue\"]\n",
    "#h=float(xmax) / (nGrid+1.0)\n",
    "scale=150\n",
    "\n",
    "plt.plot(rs,Vs*au2eV, '-', color=\"black\")\n",
    "for i in range(n_ene):\n",
    "    plt.plot(rs, scale*wf[:,i]**2+energy[i]*au2eV, '-', color=c[i%len(c)])\n",
    "plt.ylim(energy[0]*au2eV-1, energy[n_ene-1]*au2eV+1)\n",
    "plt.xlabel('$r$ [Bohr]')\n",
    "plt.ylabel('$E$ [eV]')\n",
    "plt.show()"
   ]
  },
  {
   "cell_type": "code",
   "execution_count": 31,
   "metadata": {},
   "outputs": [
    {
     "data": {
      "text/plain": [
       "array([-0.38910817 -8.32625185j, -0.3036125  -5.19717426j,\n",
       "       -0.17740745-12.46080023j, -0.13653951 -2.9155987j ,\n",
       "        0.00176073 -1.35626655j,  0.04015234 -0.43194784j,\n",
       "        1.01304107-17.26687205j,  1.35860173-27.72629193j,\n",
       "        1.38337959-21.07944233j,  1.75699175 -0.19928624j])"
      ]
     },
     "execution_count": 31,
     "metadata": {},
     "output_type": "execute_result"
    }
   ],
   "source": [
    "\"\"\" complex diagonalization example \"\"\"\n",
    "\n",
    "theta=40.0/180.0*np.pi\n",
    "\n",
    "Vs = Jolanta_3D(rs*np.exp(1j*complex(theta)), a=0.1, b=1.2, c=0.1, l=1)\n",
    "H_theta = np.exp(-2j*complex(theta)) * Ts + np.diag(Vs)\n",
    "energies = eigvals(H_theta)\n",
    "energies.sort()\n",
    "energies[:10]*au2eV"
   ]
  },
  {
   "cell_type": "code",
   "execution_count": null,
   "metadata": {},
   "outputs": [],
   "source": [
    "#\n",
    "# above theta = 40 deg the lowest Re(E) are basis set \n",
    "# representation artifacts, and we should either not go there\n",
    "# or use a better filter for the states to keep\n",
    "#"
   ]
  },
  {
   "cell_type": "code",
   "execution_count": 37,
   "metadata": {},
   "outputs": [
    {
     "name": "stdout",
     "output_type": "stream",
     "text": [
      "1 2 3 4 5 6 7 8 9 10 \n",
      "11 12 13 14 15 16 17 18 19 20 \n",
      "21 22 23 24 25 26 27 28 29 30 \n",
      "31 32 33 34 35 36 37 38 39 40 \n",
      "41 42 43 44 45 46 47 48 49 50 \n"
     ]
    }
   ],
   "source": [
    "#\n",
    "#  complex scaling loop: \n",
    "#\n",
    "#  start on the real axis (theta=0) and rotate to theta = theta_max \n",
    "#\n",
    "#  we keep n_keep energies with the lowest real part \n",
    "#\n",
    "\n",
    "n_theta=50\n",
    "n_keep=15\n",
    "theta_min=0\n",
    "theta_max=40.0/180.0*np.pi\n",
    "\n",
    "thetas=np.linspace(theta_min, theta_max, n_theta, endpoint=True)\n",
    "run_data = np.zeros((n_theta,n_keep), complex)  # array used to collect all theta-run data\n",
    "\n",
    "for i_theta in range(n_theta):\n",
    "    theta=thetas[i_theta]\n",
    "    Vs = Jolanta_3D(rs*np.exp(1j*complex(theta)), a=0.1, b=1.2, c=0.1, l=1)\n",
    "    H_theta = np.exp(-2j*complex(theta)) * Ts + np.diag(Vs)\n",
    "    energies = eigvals(H_theta)\n",
    "    energies.sort()\n",
    "    run_data[i_theta,:] = energies[0:n_keep]\n",
    "    print(i_theta+1, end=\" \")\n",
    "    if (i_theta+1)%10==0:\n",
    "        print()\n",
    "\n",
    "run_data *= au2eV"
   ]
  },
  {
   "cell_type": "code",
   "execution_count": 41,
   "metadata": {},
   "outputs": [],
   "source": [
    "#\n",
    "# even states in blue, odd states in yellow\n",
    "#\n",
    "for i in range(0, n_keep, 2):\n",
    "    plt.plot(run_data[:,i].real,  run_data[:,i].imag, 'o', color='blue')\n",
    "plt.xlim(0,5)\n",
    "plt.ylim(-1,0)\n",
    "plt.show()"
   ]
  },
  {
   "cell_type": "code",
   "execution_count": 10,
   "metadata": {},
   "outputs": [],
   "source": [
    "#\n",
    "# You have to hand-select the L-ranges for your choice of a, b, c,\n",
    "# and grid parameters\n",
    "#\n",
    "# I suggest you put the crossing_j.dat files into a directory \n",
    "# with a useful name\n",
    "#"
   ]
  },
  {
   "cell_type": "code",
   "execution_count": 67,
   "metadata": {},
   "outputs": [],
   "source": [
    "#\n",
    "#  save n_save trajectories to file\n",
    "#\n",
    "n_save=5\n",
    "fname=\"complex_scaling_rmax.\"+str(int(rmax))+\"_ppB.\"+str(ppB)+\".csv\"\n",
    "tr = np.zeros((n_theta,n_save+1), complex)\n",
    "tr[:,0]=thetas\n",
    "tr[:,1:n_save+1]=run_data[:,0:n_save]\n",
    "header=\"theta\"\n",
    "for i in range(n_save):\n",
    "    header = header + ', E' + str(i+1)\n",
    "np.savetxt(fname, tr, fmt='%15.12f', delimiter=',', header=header, comments='')"
   ]
  },
  {
   "cell_type": "code",
   "execution_count": null,
   "metadata": {},
   "outputs": [],
   "source": []
  }
 ],
 "metadata": {
  "kernelspec": {
   "display_name": "Python 3",
   "language": "python",
   "name": "python3"
  },
  "language_info": {
   "codemirror_mode": {
    "name": "ipython",
    "version": 3
   },
   "file_extension": ".py",
   "mimetype": "text/x-python",
   "name": "python",
   "nbconvert_exporter": "python",
   "pygments_lexer": "ipython3",
   "version": "3.6.8"
  }
 },
 "nbformat": 4,
 "nbformat_minor": 2
}
