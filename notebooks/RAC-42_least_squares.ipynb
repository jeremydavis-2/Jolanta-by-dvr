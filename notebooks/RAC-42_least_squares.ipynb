{
 "cells": [
  {
   "cell_type": "code",
   "execution_count": 1,
   "metadata": {},
   "outputs": [],
   "source": [
    "import numpy as np\n",
    "from scipy.optimize import least_squares\n",
    "#from pandas import Series, DataFrame\n",
    "import pandas as pd\n",
    "import matplotlib\n",
    "import matplotlib.pyplot as plt\n",
    "matplotlib.use('Qt5Agg')\n",
    "%matplotlib qt5\n",
    "#\n",
    "# if pade.py is not in the current directory, set this path:\n",
    "#\n",
    "#import sys\n",
    "#sys.path.append('../Python_libs')\n",
    "from rac_aux import *"
   ]
  },
  {
   "cell_type": "code",
   "execution_count": 2,
   "metadata": {},
   "outputs": [
    {
     "data": {
      "text/html": [
       "<div>\n",
       "<style scoped>\n",
       "    .dataframe tbody tr th:only-of-type {\n",
       "        vertical-align: middle;\n",
       "    }\n",
       "\n",
       "    .dataframe tbody tr th {\n",
       "        vertical-align: top;\n",
       "    }\n",
       "\n",
       "    .dataframe thead th {\n",
       "        text-align: right;\n",
       "    }\n",
       "</style>\n",
       "<table border=\"1\" class=\"dataframe\">\n",
       "  <thead>\n",
       "    <tr style=\"text-align: right;\">\n",
       "      <th></th>\n",
       "      <th>l</th>\n",
       "      <th>E1</th>\n",
       "      <th>E2</th>\n",
       "      <th>E3</th>\n",
       "      <th>E4</th>\n",
       "    </tr>\n",
       "  </thead>\n",
       "  <tbody>\n",
       "    <tr>\n",
       "      <th>0</th>\n",
       "      <td>0.0</td>\n",
       "      <td>0.469219</td>\n",
       "      <td>1.365173</td>\n",
       "      <td>1.938043</td>\n",
       "      <td>3.271038</td>\n",
       "    </tr>\n",
       "    <tr>\n",
       "      <th>1</th>\n",
       "      <td>0.2</td>\n",
       "      <td>0.457846</td>\n",
       "      <td>1.314401</td>\n",
       "      <td>1.844238</td>\n",
       "      <td>3.242423</td>\n",
       "    </tr>\n",
       "    <tr>\n",
       "      <th>2</th>\n",
       "      <td>0.4</td>\n",
       "      <td>0.446073</td>\n",
       "      <td>1.251127</td>\n",
       "      <td>1.760926</td>\n",
       "      <td>3.215267</td>\n",
       "    </tr>\n",
       "    <tr>\n",
       "      <th>3</th>\n",
       "      <td>0.6</td>\n",
       "      <td>0.433754</td>\n",
       "      <td>1.173608</td>\n",
       "      <td>1.690292</td>\n",
       "      <td>3.189317</td>\n",
       "    </tr>\n",
       "    <tr>\n",
       "      <th>4</th>\n",
       "      <td>0.8</td>\n",
       "      <td>0.420648</td>\n",
       "      <td>1.082215</td>\n",
       "      <td>1.632448</td>\n",
       "      <td>3.164365</td>\n",
       "    </tr>\n",
       "  </tbody>\n",
       "</table>\n",
       "</div>"
      ],
      "text/plain": [
       "     l        E1        E2        E3        E4\n",
       "0  0.0  0.469219  1.365173  1.938043  3.271038\n",
       "1  0.2  0.457846  1.314401  1.844238  3.242423\n",
       "2  0.4  0.446073  1.251127  1.760926  3.215267\n",
       "3  0.6  0.433754  1.173608  1.690292  3.189317\n",
       "4  0.8  0.420648  1.082215  1.632448  3.164365"
      ]
     },
     "execution_count": 2,
     "metadata": {},
     "output_type": "execute_result"
    }
   ],
   "source": [
    "Angs2Bohr=1.8897259886\n",
    "au2eV=27.211386027\n",
    "au2cm=219474.63068\n",
    "#\n",
    "#  files in the current directory do not need the path name\n",
    "#\n",
    "#df = pd.read_csv(\"/home/thomas/Python/StabPlots/Stab_data/1D_a0.2_b0_c0.14/crossing_1.dat\", delim_whitespace=True)\n",
    "df = pd.read_csv(\"sb_rac.csv\")\n",
    "#df = pd.read_csv(\"crossing_1.dat\", delim_whitespace=True)\n",
    "\n",
    "plot_it=False\n",
    "if plot_it:\n",
    "    plt.cla()\n",
    "    plt.plot(df.l.values, df.E1.values, 'o-')\n",
    "    plt.plot(df.l.values, df.E2.values, 'o-')\n",
    "    plt.plot(df.l.values, df.E3.values, 'o-')\n",
    "    plt.show()\n",
    "df[:5]"
   ]
  },
  {
   "cell_type": "code",
   "execution_count": 3,
   "metadata": {},
   "outputs": [
    {
     "name": "stdout",
     "output_type": "stream",
     "text": [
      "N= 89\n"
     ]
    }
   ],
   "source": [
    "i_neg = np.argmin(abs(df.E1.values))\n",
    "if df.E1[i_neg] > 0:\n",
    "    i_neg += 1\n",
    "ls = df.l.values[i_neg:]\n",
    "print('N=',len(ls))\n",
    "Es = df.E1.values[i_neg:]\n",
    "if plot_it:\n",
    "    plt.cla()\n",
    "    plt.plot(df.l.values, df.E1.values, 'b-')\n",
    "    plt.plot(df.l.values, df.E2.values, 'b-')\n",
    "    plt.plot(df.l.values, df.E3.values, 'b-')\n",
    "    plt.plot(ls, Es, 'o', color=\"orange\")\n",
    "    plt.show()"
   ]
  },
  {
   "cell_type": "code",
   "execution_count": 4,
   "metadata": {},
   "outputs": [],
   "source": [
    "k2s = -Es\n",
    "ks  = np.sqrt(k2s)"
   ]
  },
  {
   "cell_type": "code",
   "execution_count": 5,
   "metadata": {},
   "outputs": [
    {
     "name": "stdout",
     "output_type": "stream",
     "text": [
      "[2.4, 0.2704669890140844, 1.4666963639216455, 0.570916223186097, 3.29172828739109, 10]\n",
      "91.97737298598086\n"
     ]
    }
   ],
   "source": [
    "# start params\n",
    "E0 = linear_extra(ls,Es)\n",
    "G0 = 0.2*E0\n",
    "p0s=[ls[0]] + guess(E0, G0) + guess(5*E0,10*G0) + [10]\n",
    "print(p0s)\n",
    "print(chi2_gen(p0s, ks, k2s, ls, pade_42_lsq))"
   ]
  },
  {
   "cell_type": "code",
   "execution_count": null,
   "metadata": {},
   "outputs": [],
   "source": [
    "p31_opt = [2.40228618, 0.27139798, 1.28131923]"
   ]
  },
  {
   "cell_type": "code",
   "execution_count": 9,
   "metadata": {},
   "outputs": [
    {
     "name": "stdout",
     "output_type": "stream",
     "text": [
      "num grad:\n",
      " [[ 1.74837643  1.04410881  0.75117465  0.09132267  2.51127503 -0.83591303]\n",
      " [ 1.76700182  1.05049612  0.75106652  0.09173122  2.53837509 -0.84484744]\n",
      " [ 1.78563814  1.05684827  0.75095982  0.09213841  2.56549062 -0.85378705]\n",
      " [ 1.80428529  1.06316586  0.75085452  0.09254426  2.59262151 -0.86273183]\n",
      " [ 1.82294317  1.06944947  0.75075056  0.09294877  2.61976762 -0.87168173]\n",
      " [ 1.84161166  1.07569966  0.75064791  0.09335195  2.64692882 -0.88063669]]\n",
      "ana grad:\n",
      " [[ 1.74837643  1.04410881  0.75117465  0.09132267  2.51127503 -0.83591303]\n",
      " [ 1.76700182  1.05049612  0.75106652  0.09173122  2.53837509 -0.84484744]\n",
      " [ 1.78563814  1.05684827  0.75095982  0.09213841  2.56549062 -0.85378705]\n",
      " [ 1.80428529  1.06316586  0.75085452  0.09254426  2.59262151 -0.86273183]\n",
      " [ 1.82294317  1.06944946  0.75075056  0.09294877  2.61976762 -0.87168173]\n",
      " [ 1.84161166  1.07569966  0.75064791  0.09335195  2.64692882 -0.88063669]]\n"
     ]
    },
    {
     "data": {
      "text/plain": [
       "array([[ 2.55742094e-11, -9.61775104e-11, -1.50029988e-11,\n",
       "         1.48589724e-10,  2.43520759e-11, -1.73946413e-10],\n",
       "       [ 4.35944614e-11,  3.38509221e-11, -1.00044417e-11,\n",
       "         6.34104297e-11,  3.36499717e-11, -1.74612991e-10],\n",
       "       [ 3.95663502e-11, -2.79354540e-10,  2.30918618e-11,\n",
       "        -5.80744203e-11,  4.35611547e-11, -1.73104864e-10],\n",
       "       [ 2.10509388e-11, -1.74722681e-10,  1.62903024e-12,\n",
       "        -4.98261016e-11,  2.49289478e-11, -1.73846271e-10],\n",
       "       [ 1.11315401e-11,  4.68280970e-11,  7.02327085e-12,\n",
       "         3.31425026e-11,  1.03437259e-11, -1.75637505e-10],\n",
       "       [ 5.27675681e-11, -1.21796573e-10, -3.92059718e-11,\n",
       "        -2.14547394e-10, -2.19202434e-12, -1.75995996e-10]])"
      ]
     },
     "execution_count": 9,
     "metadata": {},
     "output_type": "execute_result"
    }
   ],
   "source": [
    "#\n",
    "#  the derivative of [4,2] works\n",
    "#\n",
    "\n",
    "N=6\n",
    "\n",
    "df1s = pade_gen_j_lsq(p0s, ks[-N:], k2s[-N:], ls[-N:], pade_42_lsq)\n",
    "print(\"num grad:\\n\", df1s)\n",
    "\n",
    "df2s = pade_42j_lsq(p0s, ks[-N:], k2s[-N:], ls[-N:])\n",
    "print(\"ana grad:\\n\", df2s)\n",
    "\n",
    "df1s-df2s"
   ]
  },
  {
   "cell_type": "code",
   "execution_count": null,
   "metadata": {},
   "outputs": [],
   "source": [
    "# start params\n",
    "E0 = linear_extra(ls,Es)\n",
    "G0 = 0.2*E0\n",
    "p0s=[ls[0]] + guess(E0, G0) + [10]\n",
    "print(chi2_gen(p0s, ks, k2s, ls, pade_31))"
   ]
  },
  {
   "cell_type": "code",
   "execution_count": 10,
   "metadata": {},
   "outputs": [
    {
     "name": "stdout",
     "output_type": "stream",
     "text": [
      "Start parameters: [2.4, 0.2704669890140844, 1.4666963639216455, 0.570916223186097, 3.29172828739109, 10]\n",
      "Least squares, 2-point jac\n",
      "njev: 131\n",
      "cost: 9.866093194892789e-07\n",
      "grad: [-1.37223952e-09 -2.99601881e-10  3.21162522e-09 -4.88484981e-10\n",
      " -2.37046224e-09  2.13999556e-09]\n",
      "message: `gtol` termination condition is satisfied.\n",
      "success: True\n",
      "x: [2.39193215 0.29644131 1.3187318  1.37364013 0.29655318 0.50789635]\n",
      "chi2 = 2.217e-08\n",
      "Er=1.731331,  Gamma=0.463547\n"
     ]
    }
   ],
   "source": [
    "#\n",
    "#  test results of other minimizers wrt least squares\n",
    "#\n",
    "#p0s=res.x\n",
    "\n",
    "print(\"Start parameters:\",p0s)\n",
    "print('Least squares, 2-point jac')\n",
    "res = least_squares(pade_42_lsq, p0s, method='trf', jac='2-point', args=(ks, k2s, ls))\n",
    "print(\"njev:\",res.njev)\n",
    "print(\"cost:\",res.cost)\n",
    "print(\"grad:\",res.grad)\n",
    "print(\"message:\",res.message)\n",
    "print(\"success:\",res.success)\n",
    "print(\"x:\", res.x)\n",
    "print('chi2 = %.3e' % (res.cost*2/len(ks)))\n",
    "print(\"Er=%f,  Gamma=%f\" % res_ene(res.x[1], res.x[2]))"
   ]
  },
  {
   "cell_type": "code",
   "execution_count": 12,
   "metadata": {},
   "outputs": [
    {
     "name": "stdout",
     "output_type": "stream",
     "text": [
      "Least squares, trust-region-reflective (default) with analytic jac\n",
      "njev: 131\n",
      "cost: 9.86609319494982e-07\n",
      "grad: [-4.57481781e-09 -3.39880384e-10  1.05237323e-08 -1.21449231e-09\n",
      " -7.96253595e-09  7.00631132e-09]\n",
      "message: `ftol` termination condition is satisfied.\n",
      "success: True\n",
      "x: [2.39193215 0.29644125 1.31873181 1.3736413  0.29655369 0.50789712]\n",
      "chi2 = 2.217e-08\n",
      "Er=1.731331,  Gamma=0.463547\n"
     ]
    }
   ],
   "source": [
    "print('Least squares, trust-region-reflective (default) with analytic jac')\n",
    "res = least_squares(pade_42_lsq, p0s, method='trf', jac=pade_42j_lsq, args=(ks, k2s, ls))\n",
    "print(\"njev:\",res.njev)\n",
    "print(\"cost:\",res.cost)\n",
    "print(\"grad:\",res.grad)\n",
    "print(\"message:\",res.message)\n",
    "print(\"success:\",res.success)\n",
    "print(\"x:\", res.x)\n",
    "print('chi2 = %.3e' % (res.cost*2/len(ks)))\n",
    "print(\"Er=%f,  Gamma=%f\" % res_ene(res.x[1], res.x[2]))"
   ]
  },
  {
   "cell_type": "code",
   "execution_count": 13,
   "metadata": {},
   "outputs": [
    {
     "name": "stdout",
     "output_type": "stream",
     "text": [
      "Least squares, Levenberg-Marquardt with analytic jac\n",
      "njev: 115\n",
      "cost: 9.866093194961547e-07\n",
      "grad: [-5.28932675e-09  3.93176228e-10  1.21678506e-08 -1.40517543e-09\n",
      " -9.20619615e-09  8.09953240e-09]\n",
      "message: `ftol` termination condition is satisfied.\n",
      "success: True\n",
      "x: [ 2.39193215 -0.29644125  1.31873181  1.37364137  0.29655372  0.50789717]\n",
      "chi2 = 2.217e-08\n",
      "Er=1.731331,  Gamma=0.463547\n"
     ]
    }
   ],
   "source": [
    "print('Least squares, Levenberg-Marquardt with analytic jac')\n",
    "res = least_squares(pade_42_lsq, p0s, method='lm', jac=pade_42j_lsq, args=(ks, k2s, ls))\n",
    "print(\"njev:\",res.njev)\n",
    "print(\"cost:\",res.cost)\n",
    "print(\"grad:\",res.grad)\n",
    "print(\"message:\",res.message)\n",
    "print(\"success:\",res.success)\n",
    "print(\"x:\", res.x)\n",
    "print('chi2 = %.3e' % (res.cost*2/len(ks)))\n",
    "print(\"Er=%f,  Gamma=%f\" % res_ene(res.x[1], res.x[2]))"
   ]
  },
  {
   "cell_type": "code",
   "execution_count": 15,
   "metadata": {},
   "outputs": [
    {
     "name": "stdout",
     "output_type": "stream",
     "text": [
      "Least squares, TRF with bounds\n",
      "njev: 343\n",
      "cost: 9.866093195006935e-07\n",
      "grad: [-1.58867865e-08 -1.18401821e-09  3.65557322e-08 -4.23755071e-09\n",
      " -2.76539992e-08  2.42964954e-08]\n",
      "message: `ftol` termination condition is satisfied.\n",
      "success: True\n",
      "x: [2.39193214 0.29644124 1.31873181 1.37364164 0.29655385 0.50789736]\n",
      "chi2 = 2.217e-08\n",
      "Er=1.731331,  Gamma=0.463547\n"
     ]
    }
   ],
   "source": [
    "print('Least squares, TRF with bounds')\n",
    "\n",
    "bnds=([0,0,0, 0,0,0],[np.inf,np.inf,np.inf, np.inf,np.inf,np.inf])\n",
    "\n",
    "res = least_squares(pade_42_lsq, p0s, jac=pade_42j_lsq, bounds=bnds, args=(ks, k2s, ls))\n",
    "print(\"njev:\",res.njev)\n",
    "print(\"cost:\",res.cost)\n",
    "print(\"grad:\",res.grad)\n",
    "print(\"message:\",res.message)\n",
    "print(\"success:\",res.success)\n",
    "print(\"x:\", res.x)\n",
    "print('chi2 = %.3e' % (res.cost*2/len(ks)))\n",
    "print(\"Er=%f,  Gamma=%f\" % res_ene(res.x[1], res.x[2]))"
   ]
  },
  {
   "cell_type": "code",
   "execution_count": null,
   "metadata": {},
   "outputs": [],
   "source": [
    "l0, a, b, d = res.x"
   ]
  },
  {
   "cell_type": "code",
   "execution_count": null,
   "metadata": {},
   "outputs": [],
   "source": []
  },
  {
   "cell_type": "code",
   "execution_count": null,
   "metadata": {},
   "outputs": [],
   "source": []
  }
 ],
 "metadata": {
  "kernelspec": {
   "display_name": "Python 3",
   "language": "python",
   "name": "python3"
  },
  "language_info": {
   "codemirror_mode": {
    "name": "ipython",
    "version": 3
   },
   "file_extension": ".py",
   "mimetype": "text/x-python",
   "name": "python",
   "nbconvert_exporter": "python",
   "pygments_lexer": "ipython3",
   "version": "3.6.9"
  }
 },
 "nbformat": 4,
 "nbformat_minor": 4
}
