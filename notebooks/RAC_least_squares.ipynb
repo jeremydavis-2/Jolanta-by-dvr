{
 "cells": [
  {
   "cell_type": "code",
   "execution_count": 1,
   "metadata": {},
   "outputs": [],
   "source": [
    "import numpy as np\n",
    "from scipy.optimize import least_squares\n",
    "#from pandas import Series, DataFrame\n",
    "import pandas as pd\n",
    "import matplotlib\n",
    "import matplotlib.pyplot as plt\n",
    "matplotlib.use('Qt5Agg')\n",
    "%matplotlib qt5\n",
    "#\n",
    "# if pade.py is not in the current directory, set this path:\n",
    "#\n",
    "#import sys\n",
    "#sys.path.append('../Python_libs')\n",
    "from rac_aux import *"
   ]
  },
  {
   "cell_type": "code",
   "execution_count": 2,
   "metadata": {},
   "outputs": [
    {
     "data": {
      "text/html": [
       "<div>\n",
       "<style scoped>\n",
       "    .dataframe tbody tr th:only-of-type {\n",
       "        vertical-align: middle;\n",
       "    }\n",
       "\n",
       "    .dataframe tbody tr th {\n",
       "        vertical-align: top;\n",
       "    }\n",
       "\n",
       "    .dataframe thead th {\n",
       "        text-align: right;\n",
       "    }\n",
       "</style>\n",
       "<table border=\"1\" class=\"dataframe\">\n",
       "  <thead>\n",
       "    <tr style=\"text-align: right;\">\n",
       "      <th></th>\n",
       "      <th>l</th>\n",
       "      <th>E1</th>\n",
       "      <th>E2</th>\n",
       "      <th>E3</th>\n",
       "      <th>E4</th>\n",
       "    </tr>\n",
       "  </thead>\n",
       "  <tbody>\n",
       "    <tr>\n",
       "      <th>0</th>\n",
       "      <td>0.0</td>\n",
       "      <td>0.469219</td>\n",
       "      <td>1.365173</td>\n",
       "      <td>1.938043</td>\n",
       "      <td>3.271038</td>\n",
       "    </tr>\n",
       "    <tr>\n",
       "      <th>1</th>\n",
       "      <td>0.2</td>\n",
       "      <td>0.457846</td>\n",
       "      <td>1.314401</td>\n",
       "      <td>1.844238</td>\n",
       "      <td>3.242423</td>\n",
       "    </tr>\n",
       "    <tr>\n",
       "      <th>2</th>\n",
       "      <td>0.4</td>\n",
       "      <td>0.446073</td>\n",
       "      <td>1.251127</td>\n",
       "      <td>1.760926</td>\n",
       "      <td>3.215267</td>\n",
       "    </tr>\n",
       "    <tr>\n",
       "      <th>3</th>\n",
       "      <td>0.6</td>\n",
       "      <td>0.433754</td>\n",
       "      <td>1.173608</td>\n",
       "      <td>1.690292</td>\n",
       "      <td>3.189317</td>\n",
       "    </tr>\n",
       "    <tr>\n",
       "      <th>4</th>\n",
       "      <td>0.8</td>\n",
       "      <td>0.420648</td>\n",
       "      <td>1.082215</td>\n",
       "      <td>1.632448</td>\n",
       "      <td>3.164365</td>\n",
       "    </tr>\n",
       "  </tbody>\n",
       "</table>\n",
       "</div>"
      ],
      "text/plain": [
       "     l        E1        E2        E3        E4\n",
       "0  0.0  0.469219  1.365173  1.938043  3.271038\n",
       "1  0.2  0.457846  1.314401  1.844238  3.242423\n",
       "2  0.4  0.446073  1.251127  1.760926  3.215267\n",
       "3  0.6  0.433754  1.173608  1.690292  3.189317\n",
       "4  0.8  0.420648  1.082215  1.632448  3.164365"
      ]
     },
     "execution_count": 2,
     "metadata": {},
     "output_type": "execute_result"
    }
   ],
   "source": [
    "Angs2Bohr=1.8897259886\n",
    "au2eV=27.211386027\n",
    "au2cm=219474.63068\n",
    "#\n",
    "#  files in the current directory do not need the path name\n",
    "#\n",
    "#df = pd.read_csv(\"/home/thomas/Python/StabPlots/Stab_data/1D_a0.2_b0_c0.14/crossing_1.dat\", delim_whitespace=True)\n",
    "df = pd.read_csv(\"sb_rac.csv\")\n",
    "#df = pd.read_csv(\"crossing_1.dat\", delim_whitespace=True)\n",
    "\n",
    "plot_it=False\n",
    "if plot_it:\n",
    "    plt.cla()\n",
    "    plt.plot(df.l.values, df.E1.values, 'o-')\n",
    "    plt.plot(df.l.values, df.E2.values, 'o-')\n",
    "    plt.plot(df.l.values, df.E3.values, 'o-')\n",
    "    plt.show()\n",
    "df[:5]"
   ]
  },
  {
   "cell_type": "code",
   "execution_count": 3,
   "metadata": {},
   "outputs": [
    {
     "name": "stdout",
     "output_type": "stream",
     "text": [
      "N= 89\n"
     ]
    }
   ],
   "source": [
    "#\n",
    "# put all negative E(lambda) points into the vectors: ls and Es\n",
    "#\n",
    "i_neg = np.argmin(abs(df.E1.values))\n",
    "if df.E1[i_neg] > 0:\n",
    "    i_neg += 1\n",
    "ls = df.l.values[i_neg:]\n",
    "print('N=',len(ls))\n",
    "Es = df.E1.values[i_neg:]\n",
    "if plot_it:\n",
    "    plt.cla()\n",
    "    plt.plot(df.l.values, df.E1.values, 'b-')\n",
    "    plt.plot(df.l.values, df.E2.values, 'b-')\n",
    "    plt.plot(df.l.values, df.E3.values, 'b-')\n",
    "    plt.plot(ls, Es, 'o', color=\"orange\")\n",
    "    plt.show()"
   ]
  },
  {
   "cell_type": "code",
   "execution_count": 15,
   "metadata": {},
   "outputs": [],
   "source": [
    "#\n",
    "#  So far, nm can be in [31, 42, 53]\n",
    "#\n",
    "nm=53\n",
    "\n",
    "fun=pade_53_lsq\n",
    "jac=pade_53j_lsq"
   ]
  },
  {
   "cell_type": "code",
   "execution_count": 16,
   "metadata": {},
   "outputs": [],
   "source": [
    "#\n",
    "#  kappas, kappa**2, and sigmas (weights = sigma**2)\n",
    "#  least_squares() passes parg to each pade_nm function\n",
    "#\n",
    "k2s = -Es\n",
    "ks  = np.sqrt(k2s)\n",
    "sigmas = weights(len(Es), 'ones')\n",
    "#sigmas = weights(len(Es), 'energy', E0=Es[11], Es=Es)\n",
    "parg=(ks,k2s,ls,sigmas)"
   ]
  },
  {
   "cell_type": "code",
   "execution_count": 17,
   "metadata": {},
   "outputs": [
    {
     "name": "stdout",
     "output_type": "stream",
     "text": [
      "[2.3919, 0.2964, 1.3187, 1.3736, 0.29655, 0.4543, 0.5078, 1]\n",
      "33.16551690973274\n"
     ]
    }
   ],
   "source": [
    "# start params depend on nm\n",
    "p31_opt = [2.4022, 0.2713, 1.2813, 0.4543]\n",
    "p42_opt = [2.3919, 0.2964, 1.3187, 1.3736,  0.29655, 0.5078]\n",
    "\n",
    "E0 = linear_extra(ls,Es)\n",
    "G0 = 0.2*E0\n",
    "if nm == 31:\n",
    "    p0s=[ls[0]] + guess(E0, G0) + [10]\n",
    "elif nm == 42:\n",
    "    p0s=[ls[0]] + guess(E0, G0) + guess(5*E0,10*G0) + [10]\n",
    "elif nm == 53:\n",
    "    p0s = p42_opt[0:5] + p31_opt[3:] + p42_opt[5:] + [1]\n",
    "else:\n",
    "    print(\"Warning\", nm, \"not implemented\")\n",
    "print(p0s)\n",
    "print(chi2_gen(p0s, ks, k2s, ls, sigmas, fun))"
   ]
  },
  {
   "cell_type": "code",
   "execution_count": 18,
   "metadata": {},
   "outputs": [
    {
     "name": "stdout",
     "output_type": "stream",
     "text": [
      "num grad:\n",
      " [[ 0.38953879  0.19117545 -0.15721997  0.79000311  0.81109868  1.68043641\n",
      "  -0.18612995 -1.33510246]\n",
      " [ 0.39132513  0.19145959 -0.1565389   0.79572221  0.81986972  1.6952413\n",
      "  -0.18644192 -1.34579397]\n",
      " [ 0.39309983  0.19173764 -0.15586284  0.80138975  0.82862584  1.70997787\n",
      "  -0.18674545 -1.35640547]\n",
      " [ 0.39486315  0.19200981 -0.15519185  0.8070067   0.83736726  1.72464725\n",
      "  -0.18704083 -1.36693848]\n",
      " [ 0.39661534  0.19227628 -0.15452596  0.81257403  0.8460942   1.73925054\n",
      "  -0.18732833 -1.3773945 ]\n",
      " [ 0.39835662  0.19253723 -0.1538652   0.81809265  0.85480687  1.75378883\n",
      "  -0.18760822 -1.38777496]]\n",
      "ana grad:\n",
      " [[ 0.38953879  0.19117545 -0.15721997  0.79000311  0.81109868  1.68043641\n",
      "  -0.18612995 -1.33510246]\n",
      " [ 0.39132513  0.19145959 -0.1565389   0.79572221  0.81986972  1.6952413\n",
      "  -0.18644192 -1.34579397]\n",
      " [ 0.39309983  0.19173764 -0.15586284  0.80138975  0.82862584  1.70997787\n",
      "  -0.18674545 -1.35640547]\n",
      " [ 0.39486315  0.19200981 -0.15519185  0.8070067   0.83736726  1.72464725\n",
      "  -0.18704083 -1.36693848]\n",
      " [ 0.39661534  0.19227628 -0.15452596  0.81257403  0.8460942   1.73925054\n",
      "  -0.18732833 -1.3773945 ]\n",
      " [ 0.39835662  0.19253723 -0.1538652   0.81809265  0.85480687  1.75378883\n",
      "  -0.18760822 -1.38777496]]\n"
     ]
    },
    {
     "data": {
      "text/plain": [
       "2.6316503427431527e-10"
      ]
     },
     "execution_count": 18,
     "metadata": {},
     "output_type": "execute_result"
    }
   ],
   "source": [
    "#\n",
    "#  test the derivative of [n,m] \n",
    "#\n",
    "\n",
    "N=6\n",
    "\n",
    "df1s = pade_gen_j_lsq(p0s, ks[-N:], k2s[-N:], ls[-N:], sigmas[-N:], fun)\n",
    "print(\"num grad:\\n\", df1s)\n",
    "\n",
    "df2s = jac(p0s, ks[-N:], k2s[-N:], ls[-N:], sigmas[-N:])\n",
    "print(\"ana grad:\\n\", df2s)\n",
    "\n",
    "np.sqrt(np.sum(np.square(df1s-df2s)))"
   ]
  },
  {
   "cell_type": "code",
   "execution_count": 19,
   "metadata": {},
   "outputs": [
    {
     "name": "stdout",
     "output_type": "stream",
     "text": [
      "Least squares, trust-region-reflective (default) with 2-point jac\n",
      "njev: 680\n",
      "cost: 2.464708335230457e-10\n",
      "grad: [-5.98547864e-07 -1.94619022e-07 -7.99501404e-08 -1.06433631e-07\n",
      " -2.13735827e-06 -2.23383567e-06  1.05170237e-06  1.46892149e-06]\n",
      "message: The maximum number of function evaluations is exceeded.\n",
      "success: False\n",
      "x: [2.39254975 0.18738935 1.33775657 0.59494288 1.16928673 0.34302819\n",
      " 1.53887509 0.63907868]\n",
      "chi2 = 4.929e-10\n",
      "Er=1.788360,  Gamma=0.187900\n"
     ]
    }
   ],
   "source": [
    "print('Least squares, trust-region-reflective (default) with 2-point jac')\n",
    "res = least_squares(fun, p0s, method='trf', jac='2-point', args=parg)\n",
    "print(\"njev:\",res.njev)\n",
    "print(\"cost:\",res.cost)\n",
    "print(\"grad:\",res.grad)\n",
    "print(\"message:\",res.message)\n",
    "print(\"success:\",res.success)\n",
    "print(\"x:\", res.x)\n",
    "print('chi2 = %.3e' % (res.cost*2))\n",
    "print(\"Er=%f,  Gamma=%f\" % res_ene(res.x[1], res.x[2]))"
   ]
  },
  {
   "cell_type": "code",
   "execution_count": 20,
   "metadata": {},
   "outputs": [
    {
     "name": "stdout",
     "output_type": "stream",
     "text": [
      "Least squares, trust-region-reflective (default) with analytic jac\n",
      "njev: 680\n",
      "cost: 2.4645400091317617e-10\n",
      "grad: [-2.42933588e-06 -7.90156285e-07 -3.26027037e-07 -4.32162831e-07\n",
      " -8.66949422e-06 -9.05631022e-06  4.26980080e-06  5.95501098e-06]\n",
      "message: The maximum number of function evaluations is exceeded.\n",
      "success: False\n",
      "x: [2.39254979 0.18741919 1.33774473 0.59490325 1.16941168 0.34301569\n",
      " 1.53903683 0.63912608]\n",
      "chi2 = 4.929e-10\n",
      "Er=1.788327,  Gamma=0.187958\n"
     ]
    }
   ],
   "source": [
    "print('Least squares, trust-region-reflective (default) with analytic jac')\n",
    "res = least_squares(fun, p0s, method='trf', jac=jac, args=parg)\n",
    "print(\"njev:\",res.njev)\n",
    "print(\"cost:\",res.cost)\n",
    "print(\"grad:\",res.grad)\n",
    "print(\"message:\",res.message)\n",
    "print(\"success:\",res.success)\n",
    "print(\"x:\", res.x)\n",
    "print('chi2 = %.3e' % (res.cost*2))\n",
    "print(\"Er=%f,  Gamma=%f\" % res_ene(res.x[1], res.x[2]))"
   ]
  },
  {
   "cell_type": "code",
   "execution_count": 21,
   "metadata": {},
   "outputs": [
    {
     "name": "stdout",
     "output_type": "stream",
     "text": [
      "Least squares, Levenberg-Marquardt with analytic jac\n",
      "njev: 731\n",
      "cost: 4.887227848979291e-10\n",
      "grad: [-4.15684838e-06 -9.86981100e-07 -8.24279629e-08 -9.89705148e-07\n",
      " -1.57495763e-05 -1.45261004e-05  7.74804179e-06  1.05477683e-05]\n",
      "message: The maximum number of function evaluations is exceeded.\n",
      "success: False\n",
      "x: [2.39249781 0.14658027 1.3662456  0.6532054  1.00830421 0.36333732\n",
      " 1.33436644 0.58071153]\n",
      "chi2 = 9.774e-10\n",
      "Er=1.866165,  Gamma=0.117419\n"
     ]
    }
   ],
   "source": [
    "print('Least squares, Levenberg-Marquardt with analytic jac')\n",
    "res = least_squares(fun, p0s, method='lm', jac=jac, args=parg)\n",
    "print(\"njev:\",res.njev)\n",
    "print(\"cost:\",res.cost)\n",
    "print(\"grad:\",res.grad)\n",
    "print(\"message:\",res.message)\n",
    "print(\"success:\",res.success)\n",
    "print(\"x:\", res.x)\n",
    "print('chi2 = %.3e' % (res.cost*2))\n",
    "print(\"Er=%f,  Gamma=%f\" % res_ene(res.x[1], res.x[2]))"
   ]
  },
  {
   "cell_type": "code",
   "execution_count": 22,
   "metadata": {},
   "outputs": [
    {
     "name": "stdout",
     "output_type": "stream",
     "text": [
      "Least squares, TRF with bounds\n",
      "njev: 615\n",
      "cost: 7.961773505817201e-10\n",
      "grad: [-9.40616555e-07 -2.37224725e-07  1.14828319e-07 -2.81137234e-07\n",
      " -3.90438027e-06 -3.42509822e-06  1.78589943e-06  2.69627545e-06]\n",
      "message: The maximum number of function evaluations is exceeded.\n",
      "success: False\n",
      "x: [2.39245952 0.17944622 1.42298845 0.67319159 0.87472383 0.39277737\n",
      " 1.17094572 0.54136252]\n",
      "chi2 = 1.592e-09\n",
      "Er=2.023859,  Gamma=0.183286\n"
     ]
    }
   ],
   "source": [
    "print('Least squares, TRF with bounds')\n",
    "\n",
    "#\n",
    "#  bnds depend on the number of parameters\n",
    "#\n",
    "npara=len(p0s)\n",
    "zs = np.zeros(npara)\n",
    "infs = np.full(npara, np.inf)\n",
    "bnds=(zs, infs)\n",
    "\n",
    "res = least_squares(fun, p0s, jac=jac, bounds=bnds, args=parg)\n",
    "print(\"njev:\",res.njev)\n",
    "print(\"cost:\",res.cost)\n",
    "print(\"grad:\",res.grad)\n",
    "print(\"message:\",res.message)\n",
    "print(\"success:\",res.success)\n",
    "print(\"x:\", res.x)\n",
    "print('chi2 = %.3e' % (res.cost*2))\n",
    "print(\"Er=%f,  Gamma=%f\" % res_ene(res.x[1], res.x[2]))"
   ]
  },
  {
   "cell_type": "code",
   "execution_count": 23,
   "metadata": {},
   "outputs": [
    {
     "name": "stdout",
     "output_type": "stream",
     "text": [
      "All weights equal:  chi2 = 4.929e-10  Er=1.788327,  Gamma=0.187958\n",
      "Filter E =  -0.00:  chi2 = 1.342e-11  Er=1.746616,  Gamma=0.324691\n",
      "Filter E =  -3.30:  chi2 = 1.794e-11  Er=1.809663,  Gamma=0.399221\n",
      "Filter E =  -6.81:  chi2 = 1.128e-11  Er=1.804075,  Gamma=0.412699\n",
      "Filter E = -10.43:  chi2 = 7.942e-12  Er=1.802438,  Gamma=0.414644\n",
      "Filter E = -14.11:  chi2 = 1.012e-11  Er=1.788863,  Gamma=0.437290\n"
     ]
    }
   ],
   "source": [
    "#\n",
    "# swipe energy filter \n",
    "#\n",
    "M=len(Es)\n",
    "sigmas = weights(M, 'ones')\n",
    "res = least_squares(fun, p0s, method='trf', jac=jac, args=(ks, k2s, ls, sigmas))\n",
    "Er, G = res_ene(res.x[1], res.x[2])\n",
    "print('All weights equal:  chi2 = %.3e  Er=%f,  Gamma=%f' % (res.cost*2, Er, G))\n",
    "M=len(Es)\n",
    "for n in [0, M//4, M//2, 3*M//4, M-1]:\n",
    "    sigmas = weights(M, 'energy', E0=Es[n], Es=Es)\n",
    "    res = least_squares(fun, p0s, method='trf', jac=jac, args=(ks, k2s, ls, sigmas))\n",
    "    Er, G = res_ene(res.x[1], res.x[2])\n",
    "    print('Filter E = %6.2f:  chi2 = %.3e  Er=%f,  Gamma=%f' % (Es[n], res.cost*2, Er, G))"
   ]
  },
  {
   "cell_type": "code",
   "execution_count": null,
   "metadata": {},
   "outputs": [],
   "source": []
  }
 ],
 "metadata": {
  "kernelspec": {
   "display_name": "Python 3",
   "language": "python",
   "name": "python3"
  },
  "language_info": {
   "codemirror_mode": {
    "name": "ipython",
    "version": 3
   },
   "file_extension": ".py",
   "mimetype": "text/x-python",
   "name": "python",
   "nbconvert_exporter": "python",
   "pygments_lexer": "ipython3",
   "version": "3.6.9"
  }
 },
 "nbformat": 4,
 "nbformat_minor": 4
}
