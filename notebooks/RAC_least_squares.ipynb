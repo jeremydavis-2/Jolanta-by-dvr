{
 "cells": [
  {
   "cell_type": "code",
   "execution_count": 1,
   "metadata": {},
   "outputs": [],
   "source": [
    "import numpy as np\n",
    "from scipy.optimize import least_squares\n",
    "#from pandas import Series, DataFrame\n",
    "import pandas as pd\n",
    "import matplotlib\n",
    "import matplotlib.pyplot as plt\n",
    "matplotlib.use('Qt5Agg')\n",
    "%matplotlib qt5\n",
    "#\n",
    "# if pade.py is not in the current directory, set this path:\n",
    "#\n",
    "#import sys\n",
    "#sys.path.append('../Python_libs')\n",
    "from rac_aux import *"
   ]
  },
  {
   "cell_type": "code",
   "execution_count": 2,
   "metadata": {},
   "outputs": [
    {
     "data": {
      "text/html": [
       "<div>\n",
       "<style scoped>\n",
       "    .dataframe tbody tr th:only-of-type {\n",
       "        vertical-align: middle;\n",
       "    }\n",
       "\n",
       "    .dataframe tbody tr th {\n",
       "        vertical-align: top;\n",
       "    }\n",
       "\n",
       "    .dataframe thead th {\n",
       "        text-align: right;\n",
       "    }\n",
       "</style>\n",
       "<table border=\"1\" class=\"dataframe\">\n",
       "  <thead>\n",
       "    <tr style=\"text-align: right;\">\n",
       "      <th></th>\n",
       "      <th>l</th>\n",
       "      <th>E1</th>\n",
       "      <th>E2</th>\n",
       "      <th>E3</th>\n",
       "      <th>E4</th>\n",
       "    </tr>\n",
       "  </thead>\n",
       "  <tbody>\n",
       "    <tr>\n",
       "      <th>0</th>\n",
       "      <td>0.0</td>\n",
       "      <td>0.469219</td>\n",
       "      <td>1.365173</td>\n",
       "      <td>1.938043</td>\n",
       "      <td>3.271038</td>\n",
       "    </tr>\n",
       "    <tr>\n",
       "      <th>1</th>\n",
       "      <td>0.2</td>\n",
       "      <td>0.457846</td>\n",
       "      <td>1.314401</td>\n",
       "      <td>1.844238</td>\n",
       "      <td>3.242423</td>\n",
       "    </tr>\n",
       "    <tr>\n",
       "      <th>2</th>\n",
       "      <td>0.4</td>\n",
       "      <td>0.446073</td>\n",
       "      <td>1.251127</td>\n",
       "      <td>1.760926</td>\n",
       "      <td>3.215267</td>\n",
       "    </tr>\n",
       "    <tr>\n",
       "      <th>3</th>\n",
       "      <td>0.6</td>\n",
       "      <td>0.433754</td>\n",
       "      <td>1.173608</td>\n",
       "      <td>1.690292</td>\n",
       "      <td>3.189317</td>\n",
       "    </tr>\n",
       "    <tr>\n",
       "      <th>4</th>\n",
       "      <td>0.8</td>\n",
       "      <td>0.420648</td>\n",
       "      <td>1.082215</td>\n",
       "      <td>1.632448</td>\n",
       "      <td>3.164365</td>\n",
       "    </tr>\n",
       "  </tbody>\n",
       "</table>\n",
       "</div>"
      ],
      "text/plain": [
       "     l        E1        E2        E3        E4\n",
       "0  0.0  0.469219  1.365173  1.938043  3.271038\n",
       "1  0.2  0.457846  1.314401  1.844238  3.242423\n",
       "2  0.4  0.446073  1.251127  1.760926  3.215267\n",
       "3  0.6  0.433754  1.173608  1.690292  3.189317\n",
       "4  0.8  0.420648  1.082215  1.632448  3.164365"
      ]
     },
     "execution_count": 2,
     "metadata": {},
     "output_type": "execute_result"
    }
   ],
   "source": [
    "Angs2Bohr=1.8897259886\n",
    "au2eV=27.211386027\n",
    "au2cm=219474.63068\n",
    "#\n",
    "#  files in the current directory do not need the path name\n",
    "#\n",
    "#df = pd.read_csv(\"/home/thomas/Python/StabPlots/Stab_data/1D_a0.2_b0_c0.14/crossing_1.dat\", delim_whitespace=True)\n",
    "df = pd.read_csv(\"sb_rac.csv\")\n",
    "#df = pd.read_csv(\"crossing_1.dat\", delim_whitespace=True)\n",
    "\n",
    "plot_it=False\n",
    "if plot_it:\n",
    "    plt.cla()\n",
    "    plt.plot(df.l.values, df.E1.values, 'o-')\n",
    "    plt.plot(df.l.values, df.E2.values, 'o-')\n",
    "    plt.plot(df.l.values, df.E3.values, 'o-')\n",
    "    plt.show()\n",
    "df[:5]"
   ]
  },
  {
   "cell_type": "code",
   "execution_count": 3,
   "metadata": {},
   "outputs": [
    {
     "name": "stdout",
     "output_type": "stream",
     "text": [
      "N= 89\n"
     ]
    }
   ],
   "source": [
    "#\n",
    "# put all negative E(lambda) points into the vectors: ls and Es\n",
    "#\n",
    "i_neg = np.argmin(abs(df.E1.values))\n",
    "if df.E1[i_neg] > 0:\n",
    "    i_neg += 1\n",
    "ls = df.l.values[i_neg:]\n",
    "print('N=',len(ls))\n",
    "Es = df.E1.values[i_neg:]\n",
    "if plot_it:\n",
    "    plt.cla()\n",
    "    plt.plot(df.l.values, df.E1.values, 'b-')\n",
    "    plt.plot(df.l.values, df.E2.values, 'b-')\n",
    "    plt.plot(df.l.values, df.E3.values, 'b-')\n",
    "    plt.plot(ls, Es, 'o', color=\"orange\")\n",
    "    plt.show()"
   ]
  },
  {
   "cell_type": "code",
   "execution_count": 38,
   "metadata": {},
   "outputs": [],
   "source": [
    "#\n",
    "#  So far, nm can be in [21, 31, 32, 42, 53]\n",
    "#\n",
    "nm=32\n",
    "\n",
    "fun=pade_32_lsq\n",
    "jac=pade_32j_lsq"
   ]
  },
  {
   "cell_type": "code",
   "execution_count": 39,
   "metadata": {},
   "outputs": [],
   "source": [
    "#\n",
    "#  kappas, kappa**2, and sigmas (weights = sigma**2)\n",
    "#  least_squares() passes parg to each pade_nm function\n",
    "#\n",
    "k2s = -Es\n",
    "ks  = np.sqrt(k2s)\n",
    "sigmas = weights(len(Es), 'ones')\n",
    "#sigmas = weights(len(Es), 'energy', E0=Es[11], Es=Es)\n",
    "parg=(ks,k2s,ls,sigmas)"
   ]
  },
  {
   "cell_type": "code",
   "execution_count": 40,
   "metadata": {},
   "outputs": [
    {
     "name": "stdout",
     "output_type": "stream",
     "text": [
      "[2.4, 0.2704669890140844, 1.4666963639216455, 10, 1]\n",
      "1.0015809965763467\n"
     ]
    }
   ],
   "source": [
    "# start params depend on nm\n",
    "p31_opt = [2.4022, 0.2713, 1.2813, 0.4543]\n",
    "p42_opt = [2.3919, 0.2964, 1.3187, 1.3736,  0.29655, 0.5078]\n",
    "\n",
    "E0 = linear_extra(ls,Es)\n",
    "G0 = 0.2*E0\n",
    "if nm == 21:\n",
    "    p0s=[ls[0]] + guess(E0, G0)\n",
    "elif nm == 31:\n",
    "    p0s=[ls[0]] + guess(E0, G0) + [10]\n",
    "elif nm == 32:\n",
    "    p0s=[ls[0]] + guess(E0, G0) + [10] + [1]\n",
    "elif nm == 42:\n",
    "    p0s=[ls[0]] + guess(E0, G0) + guess(5*E0,10*G0) + [10]\n",
    "elif nm == 53:\n",
    "    p0s = p42_opt[0:5] + p31_opt[3:] + p42_opt[5:] + [1]\n",
    "else:\n",
    "    print(\"Warning\", nm, \"not implemented\")\n",
    "print(p0s)\n",
    "print(chi2_gen(p0s, ks, k2s, ls, sigmas, fun))"
   ]
  },
  {
   "cell_type": "code",
   "execution_count": 41,
   "metadata": {},
   "outputs": [
    {
     "name": "stdout",
     "output_type": "stream",
     "text": [
      "num grad:\n",
      " [[ 0.77080867  0.39021477 -2.13292562  0.00635328 -0.06124711]\n",
      " [ 0.77901782  0.39225394 -2.15903672  0.00645951 -0.06228522]\n",
      " [ 0.78723047  0.39427653 -2.18515483  0.00656635 -0.06332949]\n",
      " [ 0.79544659  0.39628284 -2.21127985  0.00667381 -0.0643799 ]\n",
      " [ 0.80366612  0.39827313 -2.2374117   0.00678189 -0.06543642]\n",
      " [ 0.81188905  0.40024768 -2.26355027  0.00689057 -0.06649903]]\n",
      "ana grad:\n",
      " [[ 0.77080867  0.39021477 -2.13292562  0.00635328 -0.06124711]\n",
      " [ 0.77901782  0.39225394 -2.15903672  0.00645951 -0.06228522]\n",
      " [ 0.78723047  0.39427653 -2.18515483  0.00656635 -0.06332949]\n",
      " [ 0.79544659  0.39628284 -2.21127985  0.00667381 -0.0643799 ]\n",
      " [ 0.80366612  0.39827313 -2.2374117   0.00678189 -0.06543642]\n",
      " [ 0.81188905  0.40024768 -2.26355027  0.00689057 -0.06649903]]\n"
     ]
    },
    {
     "data": {
      "text/plain": [
       "1.1290223162891018e-09"
      ]
     },
     "execution_count": 41,
     "metadata": {},
     "output_type": "execute_result"
    }
   ],
   "source": [
    "#\n",
    "#  test the derivative of [n,m] \n",
    "#\n",
    "\n",
    "N=6\n",
    "\n",
    "df1s = pade_gen_j_lsq(p0s, ks[-N:], k2s[-N:], ls[-N:], sigmas[-N:], fun)\n",
    "print(\"num grad:\\n\", df1s)\n",
    "\n",
    "df2s = jac(p0s, ks[-N:], k2s[-N:], ls[-N:], sigmas[-N:])\n",
    "print(\"ana grad:\\n\", df2s)\n",
    "\n",
    "np.sqrt(np.sum(np.square(df1s-df2s)))"
   ]
  },
  {
   "cell_type": "code",
   "execution_count": 42,
   "metadata": {},
   "outputs": [
    {
     "name": "stdout",
     "output_type": "stream",
     "text": [
      "Least squares, trust-region-reflective (default) with 2-point jac\n",
      "njev: 98\n",
      "cost: 3.668166195430488e-08\n",
      "grad: [-2.48509482e-11 -3.05390182e-12  5.03193369e-11 -1.27157436e-11\n",
      "  1.97579929e-11]\n",
      "message: `gtol` termination condition is satisfied.\n",
      "success: True\n",
      "x: [2.39286302 0.31720262 1.31445718 1.03224749 0.18596322]\n",
      "chi2 = 7.336e-08\n",
      "Er=1.717674,  Gamma=0.529030\n"
     ]
    }
   ],
   "source": [
    "print('Least squares, trust-region-reflective (default) with 2-point jac')\n",
    "res = least_squares(fun, p0s, method='trf', jac='2-point', args=parg)\n",
    "print(\"njev:\",res.njev)\n",
    "print(\"cost:\",res.cost)\n",
    "print(\"grad:\",res.grad)\n",
    "print(\"message:\",res.message)\n",
    "print(\"success:\",res.success)\n",
    "print(\"x:\", res.x)\n",
    "print('chi2 = %.3e' % (res.cost*2))\n",
    "print(\"Er=%f,  Gamma=%f\" % res_ene(res.x[1], res.x[2]))"
   ]
  },
  {
   "cell_type": "code",
   "execution_count": 43,
   "metadata": {},
   "outputs": [
    {
     "name": "stdout",
     "output_type": "stream",
     "text": [
      "Least squares, trust-region-reflective (default) with analytic jac\n",
      "njev: 98\n",
      "cost: 3.6681661954263234e-08\n",
      "grad: [-2.63597878e-11  1.25826368e-11  7.03996035e-11 -1.03581419e-11\n",
      "  2.80148887e-11]\n",
      "message: `gtol` termination condition is satisfied.\n",
      "success: True\n",
      "x: [2.39286302 0.31720262 1.31445718 1.03224742 0.1859632 ]\n",
      "chi2 = 7.336e-08\n",
      "Er=1.717674,  Gamma=0.529030\n"
     ]
    }
   ],
   "source": [
    "print('Least squares, trust-region-reflective (default) with analytic jac')\n",
    "res = least_squares(fun, p0s, method='trf', jac=jac, args=parg)\n",
    "print(\"njev:\",res.njev)\n",
    "print(\"cost:\",res.cost)\n",
    "print(\"grad:\",res.grad)\n",
    "print(\"message:\",res.message)\n",
    "print(\"success:\",res.success)\n",
    "print(\"x:\", res.x)\n",
    "print('chi2 = %.3e' % (res.cost*2))\n",
    "print(\"Er=%f,  Gamma=%f\" % res_ene(res.x[1], res.x[2]))"
   ]
  },
  {
   "cell_type": "code",
   "execution_count": 44,
   "metadata": {},
   "outputs": [
    {
     "name": "stdout",
     "output_type": "stream",
     "text": [
      "Least squares, Levenberg-Marquardt with analytic jac\n",
      "njev: 92\n",
      "cost: 3.668166195416088e-08\n",
      "grad: [-2.77802261e-11  1.32567909e-11  7.41961591e-11 -1.09292853e-11\n",
      "  2.95169864e-11]\n",
      "message: `ftol` termination condition is satisfied.\n",
      "success: True\n",
      "x: [2.39286302 0.31720262 1.31445718 1.03224742 0.1859632 ]\n",
      "chi2 = 7.336e-08\n",
      "Er=1.717674,  Gamma=0.529030\n"
     ]
    }
   ],
   "source": [
    "print('Least squares, Levenberg-Marquardt with analytic jac')\n",
    "res = least_squares(fun, p0s, method='lm', jac=jac, args=parg)\n",
    "print(\"njev:\",res.njev)\n",
    "print(\"cost:\",res.cost)\n",
    "print(\"grad:\",res.grad)\n",
    "print(\"message:\",res.message)\n",
    "print(\"success:\",res.success)\n",
    "print(\"x:\", res.x)\n",
    "print('chi2 = %.3e' % (res.cost*2))\n",
    "print(\"Er=%f,  Gamma=%f\" % res_ene(res.x[1], res.x[2]))"
   ]
  },
  {
   "cell_type": "code",
   "execution_count": 45,
   "metadata": {},
   "outputs": [
    {
     "name": "stdout",
     "output_type": "stream",
     "text": [
      "Least squares, TRF with bounds\n",
      "njev: 31\n",
      "cost: 2.6744702809644768e-06\n",
      "grad: [-8.12658327e-10 -4.76519391e-10  2.22819483e-09 -7.83010650e-12\n",
      "  1.58066482e-10]\n",
      "message: `gtol` termination condition is satisfied.\n",
      "success: True\n",
      "x: [ 2.37126798  0.27344434  1.33872887 33.01593234  6.70979226]\n",
      "chi2 = 5.349e-06\n",
      "Er=1.786604,  Gamma=0.400397\n"
     ]
    }
   ],
   "source": [
    "print('Least squares, TRF with bounds')\n",
    "\n",
    "#\n",
    "#  bnds depend on the number of parameters\n",
    "#\n",
    "npara=len(p0s)\n",
    "zs = np.zeros(npara)\n",
    "infs = np.full(npara, np.inf)\n",
    "bnds=(zs, infs)\n",
    "\n",
    "res = least_squares(fun, p0s, jac=jac, bounds=bnds, args=parg)\n",
    "print(\"njev:\",res.njev)\n",
    "print(\"cost:\",res.cost)\n",
    "print(\"grad:\",res.grad)\n",
    "print(\"message:\",res.message)\n",
    "print(\"success:\",res.success)\n",
    "print(\"x:\", res.x)\n",
    "print('chi2 = %.3e' % (res.cost*2))\n",
    "print(\"Er=%f,  Gamma=%f\" % res_ene(res.x[1], res.x[2]))"
   ]
  },
  {
   "cell_type": "code",
   "execution_count": 46,
   "metadata": {},
   "outputs": [
    {
     "name": "stdout",
     "output_type": "stream",
     "text": [
      "All weights equal:  chi2 = 7.336e-08  Er=1.717674,  Gamma=0.529030\n",
      "Filter E =  -0.00:  chi2 = 4.824e-08  Er=1.727520,  Gamma=0.521586\n",
      "Filter E =  -3.30:  chi2 = 2.607e-08  Er=1.703503,  Gamma=0.510255\n",
      "Filter E =  -6.81:  chi2 = 2.007e-08  Er=1.693914,  Gamma=0.501228\n",
      "Filter E = -10.43:  chi2 = 1.762e-08  Er=1.687185,  Gamma=0.492727\n",
      "Filter E = -14.11:  chi2 = 1.899e-08  Er=1.678523,  Gamma=0.477630\n"
     ]
    }
   ],
   "source": [
    "#\n",
    "# swipe energy filter \n",
    "#\n",
    "M=len(Es)\n",
    "sigmas = weights(M, 'ones')\n",
    "res = least_squares(fun, p0s, method='trf', jac=jac, args=(ks, k2s, ls, sigmas))\n",
    "Er, G = res_ene(res.x[1], res.x[2])\n",
    "print('All weights equal:  chi2 = %.3e  Er=%f,  Gamma=%f' % (res.cost*2, Er, G))\n",
    "M=len(Es)\n",
    "for n in [0, M//4, M//2, 3*M//4, M-1]:\n",
    "    sigmas = weights(M, 'energy', E0=Es[n], Es=Es)\n",
    "    res = least_squares(fun, p0s, method='trf', jac=jac, args=(ks, k2s, ls, sigmas))\n",
    "    Er, G = res_ene(res.x[1], res.x[2])\n",
    "    print('Filter E = %6.2f:  chi2 = %.3e  Er=%f,  Gamma=%f' % (Es[n], res.cost*2, Er, G))"
   ]
  },
  {
   "cell_type": "code",
   "execution_count": null,
   "metadata": {},
   "outputs": [],
   "source": []
  }
 ],
 "metadata": {
  "kernelspec": {
   "display_name": "Python 3",
   "language": "python",
   "name": "python3"
  },
  "language_info": {
   "codemirror_mode": {
    "name": "ipython",
    "version": 3
   },
   "file_extension": ".py",
   "mimetype": "text/x-python",
   "name": "python",
   "nbconvert_exporter": "python",
   "pygments_lexer": "ipython3",
   "version": "3.7.3"
  }
 },
 "nbformat": 4,
 "nbformat_minor": 4
}
