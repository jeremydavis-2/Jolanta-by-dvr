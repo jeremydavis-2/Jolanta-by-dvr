{
 "cells": [
  {
   "cell_type": "code",
   "execution_count": 1,
   "metadata": {},
   "outputs": [],
   "source": [
    "import numpy as np\n",
    "from scipy.optimize import minimize\n",
    "from scipy.optimize import dual_annealing\n",
    "from scipy.optimize import least_squares\n",
    "#from pandas import Series, DataFrame\n",
    "import pandas as pd\n",
    "import matplotlib\n",
    "import matplotlib.pyplot as plt\n",
    "matplotlib.use('Qt5Agg')\n",
    "%matplotlib qt5\n",
    "#\n",
    "# if pade.py is not in the current directory, set this path:\n",
    "#\n",
    "import sys\n",
    "sys.path.append('../Python_libs')\n",
    "import rac_pade_functions as racx"
   ]
  },
  {
   "cell_type": "code",
   "execution_count": 2,
   "metadata": {},
   "outputs": [
    {
     "data": {
      "image/png": "[encoded data removed]",
      "text/plain": [
       "<Figure size 432x288 with 1 Axes>"
      ]
     },
     "metadata": {
      "needs_background": "light"
     },
     "output_type": "display_data"
    },
    {
     "data": {
      "text/html": [
       "<div>\n",
       "<style scoped>\n",
       "    .dataframe tbody tr th:only-of-type {\n",
       "        vertical-align: middle;\n",
       "    }\n",
       "\n",
       "    .dataframe tbody tr th {\n",
       "        vertical-align: top;\n",
       "    }\n",
       "\n",
       "    .dataframe thead th {\n",
       "        text-align: right;\n",
       "    }\n",
       "</style>\n",
       "<table border=\"1\" class=\"dataframe\">\n",
       "  <thead>\n",
       "    <tr style=\"text-align: right;\">\n",
       "      <th></th>\n",
       "      <th>l</th>\n",
       "      <th>E1</th>\n",
       "      <th>E2</th>\n",
       "      <th>E3</th>\n",
       "      <th>E4</th>\n",
       "    </tr>\n",
       "  </thead>\n",
       "  <tbody>\n",
       "    <tr>\n",
       "      <th>0</th>\n",
       "      <td>0.0</td>\n",
       "      <td>0.469219</td>\n",
       "      <td>1.365173</td>\n",
       "      <td>1.938043</td>\n",
       "      <td>3.271038</td>\n",
       "    </tr>\n",
       "    <tr>\n",
       "      <th>1</th>\n",
       "      <td>0.2</td>\n",
       "      <td>0.457846</td>\n",
       "      <td>1.314401</td>\n",
       "      <td>1.844238</td>\n",
       "      <td>3.242423</td>\n",
       "    </tr>\n",
       "    <tr>\n",
       "      <th>2</th>\n",
       "      <td>0.4</td>\n",
       "      <td>0.446073</td>\n",
       "      <td>1.251127</td>\n",
       "      <td>1.760926</td>\n",
       "      <td>3.215267</td>\n",
       "    </tr>\n",
       "    <tr>\n",
       "      <th>3</th>\n",
       "      <td>0.6</td>\n",
       "      <td>0.433754</td>\n",
       "      <td>1.173608</td>\n",
       "      <td>1.690292</td>\n",
       "      <td>3.189317</td>\n",
       "    </tr>\n",
       "    <tr>\n",
       "      <th>4</th>\n",
       "      <td>0.8</td>\n",
       "      <td>0.420648</td>\n",
       "      <td>1.082215</td>\n",
       "      <td>1.632448</td>\n",
       "      <td>3.164365</td>\n",
       "    </tr>\n",
       "  </tbody>\n",
       "</table>\n",
       "</div>"
      ],
      "text/plain": [
       "     l        E1        E2        E3        E4\n",
       "0  0.0  0.469219  1.365173  1.938043  3.271038\n",
       "1  0.2  0.457846  1.314401  1.844238  3.242423\n",
       "2  0.4  0.446073  1.251127  1.760926  3.215267\n",
       "3  0.6  0.433754  1.173608  1.690292  3.189317\n",
       "4  0.8  0.420648  1.082215  1.632448  3.164365"
      ]
     },
     "execution_count": 2,
     "metadata": {},
     "output_type": "execute_result"
    }
   ],
   "source": [
    "Angs2Bohr=1.8897259886\n",
    "au2eV=27.211386027\n",
    "au2cm=219474.63068\n",
    "#\n",
    "#  files in the current directory do not need the path name\n",
    "#\n",
    "#df = pd.read_csv(\"/home/thomas/Python/StabPlots/Stab_data/1D_a0.2_b0_c0.14/crossing_1.dat\", delim_whitespace=True)\n",
    "df = pd.read_csv(\"sb_rac.csv\")\n",
    "#df = pd.read_csv(\"crossing_1.dat\", delim_whitespace=True)\n",
    "plt.cla()\n",
    "plt.plot(df.l.values, df.E1.values, 'o-')\n",
    "plt.plot(df.l.values, df.E2.values, 'o-')\n",
    "plt.plot(df.l.values, df.E3.values, 'o-')\n",
    "plt.show()\n",
    "df[:5]"
   ]
  },
  {
   "cell_type": "code",
   "execution_count": 3,
   "metadata": {},
   "outputs": [
    {
     "data": {
      "image/png": "[encoded data removed]",
      "text/plain": [
       "<Figure size 432x288 with 1 Axes>"
      ]
     },
     "metadata": {
      "needs_background": "light"
     },
     "output_type": "display_data"
    }
   ],
   "source": [
    "i_neg = np.argmin(abs(df.E1.values))\n",
    "if df.E1[i_neg] > 0:\n",
    "    i_neg += 1\n",
    "ls = df.l.values[i_neg:]\n",
    "Es = df.E1.values[i_neg:]\n",
    "plt.cla()\n",
    "plt.plot(df.l.values, df.E1.values, 'b-')\n",
    "plt.plot(df.l.values, df.E2.values, 'b-')\n",
    "plt.plot(df.l.values, df.E3.values, 'b-')\n",
    "plt.plot(ls, Es, 'o-', color=\"orange\")\n",
    "plt.show()"
   ]
  },
  {
   "cell_type": "code",
   "execution_count": 4,
   "metadata": {},
   "outputs": [],
   "source": [
    "k2s = -Es\n",
    "ks  = np.sqrt(k2s)"
   ]
  },
  {
   "cell_type": "code",
   "execution_count": 18,
   "metadata": {},
   "outputs": [],
   "source": [
    "#\n",
    "#  this will go into a module at some point\n",
    "#\n",
    "def chi2_gen(params, ks, k2s, lbs, pade):\n",
    "    \"\"\"\n",
    "    fit l = pade(k; params) to the data in ks, lbs using the weights sigma \n",
    "    \"\"\"\n",
    "    diffs = pade(ks, k2s, params) - lbs\n",
    "    return np.sum(np.square(diffs)) / len(ks)\n",
    "\n",
    "def pade_21(k, ksq, params):\n",
    "    \"\"\" Pade [2.1] \"\"\"\n",
    "    l = params[0]\n",
    "    a = params[1]\n",
    "    b = params[2]\n",
    "    a4b2=a*a*a*a + b*b\n",
    "    aak2=a*a*k*2\n",
    "    return l*(ksq + aak2 + a4b2) / (a4b2 + aak2)\n",
    "\n",
    "def pade_31(k, ksq, params):\n",
    "    \"\"\" \n",
    "    Pade [3,1]  \n",
    "    \"\"\"\n",
    "    l = params[0]\n",
    "    a = params[1]\n",
    "    b = params[2]\n",
    "    d = params[3]\n",
    "    a4b2=a*a*a*a + b*b\n",
    "    aak2=a*a*k*2\n",
    "    ddk=d*d*k\n",
    "    num = (ksq + aak2 + a4b2) * (1 + ddk)\n",
    "    den = a4b2 + aak2 + ddk*a4b2\n",
    "    return l * num / den"
   ]
  },
  {
   "cell_type": "code",
   "execution_count": 21,
   "metadata": {},
   "outputs": [],
   "source": [
    "#\n",
    "#  this will need a lot of fiddling around\n",
    "#  d(chi)/da = 1/N * Sum 2*diffs * d(pade)/da\n",
    "#  at the moment d(pade)/da is jac[i,1], I think, so that would be good\n",
    "#\n",
    "def chi2_gen_j(params, ks, k2s, lbs, pade):\n",
    "    \"\"\"\n",
    "    fit l = pade(k; params) to the data in ks, lbs using the weights sigma \n",
    "    \"\"\"\n",
    "    diffs = pade(ks, k2s, params) - lbs\n",
    "    return np.sum(np.square(diffs)) / len(ks)\n",
    "\n",
    "def pade_31j(k, ksq, params):\n",
    "    \"\"\"\n",
    "    f = l*fr1*fr2/den\n",
    "    df/dl = fr1*fr2/den\n",
    "    df/da = -4*a*k**2*l0 * fr1 * fr2 / den**2\n",
    "    df/db = -2*b*k**2*l0 * fr1 * fr2 / den**2\n",
    "    df/dd = 4*a**2*d*k**2*l0 * fr1 / den**2 \n",
    "    \n",
    "    where\n",
    "    fr1 = (k**2 + 2*a**2*k + a**4 + b**2)\n",
    "    fr2 = (1 + d**2*k)\n",
    "    den = (a**4 + b**2 + 2*a**2*k + k*d**2 * (a**4 + b**2))\n",
    "    \"\"\"\n",
    "    l = params[0]\n",
    "    a = params[1]\n",
    "    b = params[2]\n",
    "    d = params[3]\n",
    "    a4b2=a*a*a*a + b*b\n",
    "    aak2=a*a*k*2\n",
    "    ddk=d*d*k\n",
    "    fr1 = (ksq + aak2 + a4b2)\n",
    "    fr2 = (1 + ddk)\n",
    "    den = a4b2 + aak2 + ddk*a4b2\n",
    "    dl = fr1*fr2/den\n",
    "    f = l*dl\n",
    "    da = -4*a*ksq*l * dl/den\n",
    "    db = -2*b*ksq*l * dl/den\n",
    "    dd = 4*a**2*d*ksq*l * fr1/den**2\n",
    "    return f, (dl, da, db, dd)"
   ]
  },
  {
   "cell_type": "code",
   "execution_count": 22,
   "metadata": {},
   "outputs": [
    {
     "name": "stdout",
     "output_type": "stream",
     "text": [
      "Start parameters: [1, 0.27471836030808555, 1.32502669697271, 0.5]\n",
      "chi=3.015623e-06,  a=0.271347,  b=1.281328,  d=0.454252,  Iter=85, nE=1020, nG=168\n",
      "chi=3.015623e-06,  a=0.271347,  b=1.281328,  d=0.454252,  Iter=85, nE=1020, nG=168\n",
      "Er=1.636380,  Gamma=0.377372\n"
     ]
    }
   ],
   "source": [
    "#\n",
    "#  start with a plain BFGS\n",
    "#\n",
    "E0, G0 = 1.75, 0.4\n",
    "p0s=[1] + racx.guess(E0, G0) + [0.5]\n",
    "print(\"Start parameters:\",p0s)\n",
    "res = minimize(chi2_gen, p0s, args=(ks, k2s, ls, pade_31), \n",
    "               method='BFGS', options={'gtol':1e-7})\n",
    "out = tuple([res.fun] + list(res.x[1:]) + [res.nit, res.nfev, res.njev])\n",
    "print(\"chi=%e,  a=%f,  b=%f,  d=%f,  Iter=%d, nE=%d, nG=%d\" % out)\n",
    "\n",
    "#res = minimize(chi2_gen, p0s, args=(ks, k2s, ls, pade_31j), \n",
    "#               method='BFGS', jac=True, options={'gtol':1e-7})\n",
    "out = tuple([res.fun] + list(res.x[1:]) + [res.nit, res.nfev, res.njev])\n",
    "print(\"chi=%e,  a=%f,  b=%f,  d=%f,  Iter=%d, nE=%d, nG=%d\" % out)\n",
    "\n",
    "\n",
    "\n",
    "print(\"Er=%f,  Gamma=%f\" % racx.res_ene(res.x[1], res.x[2]))"
   ]
  },
  {
   "cell_type": "code",
   "execution_count": null,
   "metadata": {},
   "outputs": [],
   "source": []
  },
  {
   "cell_type": "code",
   "execution_count": null,
   "metadata": {},
   "outputs": [],
   "source": []
  },
  {
   "cell_type": "code",
   "execution_count": 21,
   "metadata": {},
   "outputs": [
    {
     "name": "stdout",
     "output_type": "stream",
     "text": [
      "[2.4, 0.27471836030808555, 1.32502669697271, 0.5]\n",
      "4.232653619677929e-06\n",
      "[2.39732522 0.28650934 1.27729181 0.49211911]\n"
     ]
    },
    {
     "data": {
      "text/plain": [
       "(1.6247359948356752, 0.41939928524556336)"
      ]
     },
     "execution_count": 21,
     "metadata": {},
     "output_type": "execute_result"
    }
   ],
   "source": [
    "cons = ({'type': 'ineq', 'fun': lambda x: x[0] },\n",
    "        {'type': 'ineq', 'fun': lambda x: x[1] },\n",
    "        {'type': 'ineq', 'fun': lambda x: x[2] })\n",
    "\n",
    "cons = ({'type': 'ineq', 'fun': lambda x: x[0] },\n",
    "        {'type': 'ineq', 'fun': lambda x: x[1] },\n",
    "        {'type': 'ineq', 'fun': lambda x: x[2] },\n",
    "        {'type': 'ineq', 'fun': lambda x: x[3] })\n",
    "\n",
    "\n",
    "E0, G0 = 1.75, 0.4\n",
    "p0s=[2.4] + racx.guess(E0, G0) + [0.5]\n",
    "print(p0s)\n",
    "res = minimize(chi2_gen, p0s, args=(ks, k2s, ls, pade_31), \n",
    "               method='SLSQP', constraints=cons, options={'ftol':1e-7})\n",
    "print(res.fun)\n",
    "print(res.x)\n",
    "racx.res_ene(res.x[1], res.x[2])"
   ]
  },
  {
   "cell_type": "code",
   "execution_count": null,
   "metadata": {},
   "outputs": [],
   "source": []
  },
  {
   "cell_type": "code",
   "execution_count": 24,
   "metadata": {},
   "outputs": [
    {
     "name": "stdout",
     "output_type": "stream",
     "text": [
      "[2.4, 0.27471836030808555, 1.32502669697271, 0.5]\n",
      "0.00026408257734821227\n",
      "[2.45478076 0.27001581 1.31296403 0.50481541]\n"
     ]
    },
    {
     "data": {
      "text/plain": [
       "(1.7185588964678278, 0.3829051631618301)"
      ]
     },
     "execution_count": 24,
     "metadata": {},
     "output_type": "execute_result"
    }
   ],
   "source": [
    "cons = ({'type': 'ineq', 'fun': lambda x: x[0] },\n",
    "        {'type': 'ineq', 'fun': lambda x: x[1] },\n",
    "        {'type': 'ineq', 'fun': lambda x: x[2] })\n",
    "\n",
    "cons = ({'type': 'ineq', 'fun': lambda x: x[0] },\n",
    "        {'type': 'ineq', 'fun': lambda x: x[1] },\n",
    "        {'type': 'ineq', 'fun': lambda x: x[2] },\n",
    "        {'type': 'ineq', 'fun': lambda x: x[3] })\n",
    "\n",
    "\n",
    "E0, G0 = 1.75, 0.4\n",
    "p0s=[2.4] + racx.guess(E0, G0) + [0.5]\n",
    "print(p0s)\n",
    "res = minimize(chi2_gen, p0s, args=(ks, k2s, ls, pade_31), \n",
    "               method='COBYLA', constraints=cons, options={'tol':1e-6})\n",
    "print(res.fun)\n",
    "print(res.x)\n",
    "racx.res_ene(res.x[1], res.x[2])"
   ]
  },
  {
   "cell_type": "code",
   "execution_count": null,
   "metadata": {},
   "outputs": [],
   "source": []
  },
  {
   "cell_type": "code",
   "execution_count": null,
   "metadata": {},
   "outputs": [],
   "source": [
    "lw = np.zeros(4)\n",
    "up = np.full((4), np.inf)\n",
    "\n",
    "args=(ks, k2s, ls, pade_31)\n",
    "local_min={'method'='BFGS'}\n",
    "\n",
    "ret = dual_annealing(func, args=args, bounds=list(zip(lw, up)), seed=1234)"
   ]
  },
  {
   "cell_type": "code",
   "execution_count": 26,
   "metadata": {},
   "outputs": [
    {
     "data": {
      "text/plain": [
       "inf"
      ]
     },
     "execution_count": 26,
     "metadata": {},
     "output_type": "execute_result"
    }
   ],
   "source": []
  },
  {
   "cell_type": "code",
   "execution_count": null,
   "metadata": {},
   "outputs": [],
   "source": [
    "#\n",
    "#  Try to make least_squares work\n",
    "#\n",
    "def chi_21(ps, ks, ls):\n",
    "    \"\"\" Pade [2.1]\n",
    "    l = params[0]\n",
    "    a = params[1]\n",
    "    b = params[2]\n",
    "    a4b2=a*a*a*a + b*b\n",
    "    aak2=a*a*k*2\n",
    "    return l*(k*k + aak2 + a4b2) / (a4b2 + aak2)\n",
    "    \"\"\"\n",
    "    return ps[0]*(np.square(ks) + 2*ps[1]**2*ks + ps[1]**4 + ps[2]**2) / (2*ps[1]**2*ks + ps[1]**4 + ps[2]**2) - ls\n",
    "\n",
    "bnds=(0, np.inf)\n",
    "p0s=[2.4407012,  0.16927274,  1.321711]\n",
    "p0s=[1] + racx.guess(E0, G0)\n",
    "res_lsq = least_squares(chi_21, p0s, args=(ks, ls), bounds=bnds)"
   ]
  },
  {
   "cell_type": "code",
   "execution_count": null,
   "metadata": {},
   "outputs": [],
   "source": [
    "print(p0s)\n",
    "print(res_lsq.x)\n",
    "racx.res_ene(res_lsq.x[1], res_lsq.x[2])"
   ]
  },
  {
   "cell_type": "code",
   "execution_count": null,
   "metadata": {},
   "outputs": [],
   "source": [
    "res_lsq.optimality"
   ]
  },
  {
   "cell_type": "code",
   "execution_count": null,
   "metadata": {},
   "outputs": [],
   "source": [
    "res_lsq.cost"
   ]
  },
  {
   "cell_type": "code",
   "execution_count": null,
   "metadata": {},
   "outputs": [],
   "source": []
  }
 ],
 "metadata": {
  "kernelspec": {
   "display_name": "Python 3",
   "language": "python",
   "name": "python3"
  },
  "language_info": {
   "codemirror_mode": {
    "name": "ipython",
    "version": 3
   },
   "file_extension": ".py",
   "mimetype": "text/x-python",
   "name": "python",
   "nbconvert_exporter": "python",
   "pygments_lexer": "ipython3",
   "version": "3.6.10"
  }
 },
 "nbformat": 4,
 "nbformat_minor": 2
}
