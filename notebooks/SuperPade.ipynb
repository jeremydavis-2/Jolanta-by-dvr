{
 "cells": [
  {
   "cell_type": "code",
   "execution_count": 1,
   "metadata": {},
   "outputs": [],
   "source": [
    "import numpy as np\n",
    "#from scipy.optimize import minimize_scalar\n",
    "#from scipy.interpolate import UnivariateSpline\n",
    "from scipy.optimize import root\n",
    "#from pandas import Series, DataFrame\n",
    "import pandas as pd\n",
    "import matplotlib\n",
    "import matplotlib.pyplot as plt\n",
    "matplotlib.use('Qt5Agg')\n",
    "%matplotlib qt5\n",
    "#\n",
    "# if pade.py is not in the current directory, set this path:\n",
    "#\n",
    "import sys\n",
    "sys.path.append('../Python_libs')\n",
    "import pade"
   ]
  },
  {
   "cell_type": "code",
   "execution_count": 2,
   "metadata": {},
   "outputs": [],
   "source": [
    "Angs2Bohr=1.8897259886\n",
    "au2eV=27.211386027\n",
    "au2cm=219474.63068\n",
    "#\n",
    "#  files in the current directory do not need the path name\n",
    "#\n",
    "#df = pd.read_csv(\"/home/thomas/Python/StabPlots/Stab_data/1D_a0.2_b0_c0.14/crossing_1.dat\", delim_whitespace=True)\n",
    "df = pd.read_csv(\"crossing_2.dat\", delim_whitespace=True)\n",
    "#df = pd.read_csv(\"crossing_1.dat\", delim_whitespace=True)\n",
    "plt.plot(df.L.values, df.E1.values, 'o-')\n",
    "plt.plot(df.L.values, df.E2.values, 'o-')\n",
    "plt.show()"
   ]
  },
  {
   "cell_type": "code",
   "execution_count": 3,
   "metadata": {},
   "outputs": [
    {
     "data": {
      "text/html": [
       "<div>\n",
       "<style scoped>\n",
       "    .dataframe tbody tr th:only-of-type {\n",
       "        vertical-align: middle;\n",
       "    }\n",
       "\n",
       "    .dataframe tbody tr th {\n",
       "        vertical-align: top;\n",
       "    }\n",
       "\n",
       "    .dataframe thead th {\n",
       "        text-align: right;\n",
       "    }\n",
       "</style>\n",
       "<table border=\"1\" class=\"dataframe\">\n",
       "  <thead>\n",
       "    <tr style=\"text-align: right;\">\n",
       "      <th></th>\n",
       "      <th>L</th>\n",
       "      <th>E1</th>\n",
       "      <th>E2</th>\n",
       "    </tr>\n",
       "  </thead>\n",
       "  <tbody>\n",
       "    <tr>\n",
       "      <th>0</th>\n",
       "      <td>15.6</td>\n",
       "      <td>6.837191</td>\n",
       "      <td>8.704528</td>\n",
       "    </tr>\n",
       "    <tr>\n",
       "      <th>1</th>\n",
       "      <td>15.7</td>\n",
       "      <td>6.829989</td>\n",
       "      <td>8.580236</td>\n",
       "    </tr>\n",
       "    <tr>\n",
       "      <th>2</th>\n",
       "      <td>15.8</td>\n",
       "      <td>6.822297</td>\n",
       "      <td>8.459077</td>\n",
       "    </tr>\n",
       "    <tr>\n",
       "      <th>3</th>\n",
       "      <td>15.9</td>\n",
       "      <td>6.814001</td>\n",
       "      <td>8.341100</td>\n",
       "    </tr>\n",
       "    <tr>\n",
       "      <th>4</th>\n",
       "      <td>16.0</td>\n",
       "      <td>6.804964</td>\n",
       "      <td>8.226379</td>\n",
       "    </tr>\n",
       "  </tbody>\n",
       "</table>\n",
       "</div>"
      ],
      "text/plain": [
       "      L        E1        E2\n",
       "0  15.6  6.837191  8.704528\n",
       "1  15.7  6.829989  8.580236\n",
       "2  15.8  6.822297  8.459077\n",
       "3  15.9  6.814001  8.341100\n",
       "4  16.0  6.804964  8.226379"
      ]
     },
     "execution_count": 3,
     "metadata": {},
     "output_type": "execute_result"
    }
   ],
   "source": [
    "df[:5]"
   ]
  },
  {
   "cell_type": "code",
   "execution_count": 4,
   "metadata": {},
   "outputs": [
    {
     "name": "stdout",
     "output_type": "stream",
     "text": [
      "L_min = 17.200000\n",
      "First approximation: Er=6.860727   Gamma=1.062304\n",
      "0.4899295397550025 0.48062083590499854\n",
      "Eres = (6.860727064692499-0.531151900032816j)\n"
     ]
    }
   ],
   "source": [
    "#\n",
    "# 0th approximation from Lenz:\n",
    "#\n",
    "# Er = H11 = average(E1,E2) and pi*Gamma/2 = W = (E2-E1)/2\n",
    "#\n",
    "#\n",
    "i_min = np.argmin(abs(df.E1.values-df.E2.values))\n",
    "L_min=df.L[i_min]\n",
    "E_1 = df.E1[i_min]\n",
    "E_2 = df.E2[i_min]\n",
    "print(\"L_min = %f\" % (df.L[i_min]))\n",
    "Er=0.5*(E_1 + E_2)\n",
    "G0=0.5 * np.pi * (E_2 - E_1)\n",
    "print(\"First approximation: Er=%f   Gamma=%f\" % (Er,G0))\n",
    "#\n",
    "#  Jack's approximation\n",
    "#\n",
    "V=0.5*(E_2-E_1)\n",
    "ip=i_min+1\n",
    "im=i_min-1\n",
    "dL=df.L.values[ip]-df.L.values[im]\n",
    "S1=abs((df.E1.values[ip]-df.E1.values[im])/dL)\n",
    "S2=abs((df.E2.values[ip]-df.E2.values[im])/dL)\n",
    "print(S1,S2)\n",
    "E_guess=(Er-0.5j*G0)\n",
    "print(\"Eres = {0}\".format(E_guess))"
   ]
  },
  {
   "cell_type": "code",
   "execution_count": null,
   "metadata": {},
   "outputs": [],
   "source": [
    "#\n",
    "#   Very simple version of a super-Pade:\n",
    "#\n",
    "#   approximation as 2-by-2 Hamiltonian\n",
    "#\n",
    "#   choose f(L) so that the continuum states are more or less linear\n",
    "#\n",
    "#   H11(f(L)) = const = resonance\n",
    "#   H22(f(L)) = a0 + a1*L [+ a2*L^2]  \n",
    "#   H12 = H21 = W = constant or W = A*exp(-(L-Lc)^2/(2*s^2))\n",
    "#\n",
    "#   Jack's formula will not work: slope(H11) = 0 \n",
    "#"
   ]
  },
  {
   "cell_type": "code",
   "execution_count": 9,
   "metadata": {},
   "outputs": [],
   "source": [
    "#\n",
    "#  seems as if going into the the complex plane from L_min \n",
    "#  so as to minimize dE_plus/dL is a good 1D option\n",
    "#  then do newton from there\n",
    "#\n",
    "#  for this purpose we need a function that \n",
    "#  returns the derivative only \n",
    "#\n",
    "def just_dE(L):\n",
    "    E, dE = pade.E_plus(L[0]+1j*L[1], A, B, C, der=1)\n",
    "    return [dE.real, dE.imag]"
   ]
  },
  {
   "cell_type": "code",
   "execution_count": 5,
   "metadata": {},
   "outputs": [
    {
     "name": "stdout",
     "output_type": "stream",
     "text": [
      "         2\n",
      "0.01409 x - 0.186 x + 1\n",
      "          2\n",
      "-0.08482 x + 0.7313 x - 14.5\n",
      "          2\n",
      "-0.04426 x + 2.426 x + 63.83\n"
     ]
    },
    {
     "data": {
      "text/plain": [
       "[<matplotlib.lines.Line2D at 0x7fe46c27b2b0>]"
      ]
     },
     "execution_count": 5,
     "metadata": {},
     "output_type": "execute_result"
    }
   ],
   "source": [
    "#\n",
    "# make one long list of all energies\n",
    "# (which requires the Ls twice)\n",
    "# and fit it to a generalized Pade approximant of order n-n-n\n",
    "#\n",
    "LL = list(df.L.values) + list(df.L.values)\n",
    "Es = list(df.E1.values) + list(df.E2.values)\n",
    "n=2\n",
    "A, B, C = pade.genpade2_via_lstsq(n, n, n, LL, Es, rcond=1e-14)\n",
    "print(A)\n",
    "print(B)\n",
    "print(C)\n",
    "\n",
    "#\n",
    "# compare the input energies and the fitted curves\n",
    "#\n",
    "npts=100\n",
    "Lplots=np.linspace(LL[0],LL[-1],npts)\n",
    "E1plot=np.zeros(npts)\n",
    "E2plot=np.zeros(npts)\n",
    "for i in range(npts):\n",
    "    E1plot[i]=pade.E_lower(Lplots[i], A, B, C)\n",
    "    E2plot[i]=pade.E_upper(Lplots[i], A, B, C)\n",
    "plt.cla()\n",
    "plt.plot(Lplots,E1plot,'-.')\n",
    "plt.plot(Lplots,E2plot,'-.')\n",
    "plt.plot(df.L.values,df.E1.values,'o')\n",
    "plt.plot(df.L.values,df.E2.values,'o')"
   ]
  },
  {
   "cell_type": "code",
   "execution_count": 15,
   "metadata": {
    "scrolled": false
   },
   "outputs": [],
   "source": [
    "#\n",
    "#  evaluate the Pade approximant in the complex plane\n",
    "#  plot the abs(derivative) on a log-scale\n",
    "#\n",
    "npts=81\n",
    "rp=1\n",
    "ip=8\n",
    "Lrs = np.linspace(df.L.values[0]-rp, df.L.values[-1]+rp, npts)\n",
    "Lis = np.linspace(0, +ip, npts)\n",
    "absdEs = np.zeros([npts,npts])\n",
    "for r in range(npts):\n",
    "    for i in range(npts):\n",
    "        L=[Lrs[r],Lis[i]]\n",
    "        [dEr, dEi] = just_dE(L)\n",
    "        absdEs[i,r] = np.log10(abs(dEr+1j*dEi))\n",
    "\n",
    "plt.cla()        \n",
    "plt.contourf(Lrs, Lis, absdEs, 10, cmap=plt.cm.jet_r)\n",
    "plt.colorbar()\n",
    "plt.show()"
   ]
  },
  {
   "cell_type": "code",
   "execution_count": 17,
   "metadata": {},
   "outputs": [
    {
     "data": {
      "text/plain": [
       "array([14.80189532,  2.99137826])"
      ]
     },
     "execution_count": 17,
     "metadata": {},
     "output_type": "execute_result"
    }
   ],
   "source": [
    "\"\"\"\n",
    "  collects some results for small n\n",
    "  look again very carefully at:\n",
    "  - the derivative\n",
    "  - the right root (should work for the other root, \n",
    "    but Im(L) negative, right?\n",
    "  - the scipt.root function\n",
    "  - why does this stray outside the original L-range?\n",
    "    fit to larger L-ranges?\n",
    "\"\"\"\n",
    "L0_333=np.array([12.2, 2.93])\n",
    "L0_444=np.array([11.8, 3.53])\n",
    "L0_555=np.array([13.1, 3.04])\n",
    "L0_777=np.array([14.9, 3.04])\n",
    "sol = root(just_dE, L0_777)\n",
    "sol.x"
   ]
  },
  {
   "cell_type": "code",
   "execution_count": null,
   "metadata": {},
   "outputs": [],
   "source": [
    "Lstar=sol.x[0]+1j*sol.x[1]\n",
    "print(\"L=(%f, %f)\" % (Lstar.real, Lstar.imag))\n",
    "E, dE = pade.E_plus(Lstar, A, B, C, der=1)\n",
    "print(\"E=(%f, %f)\" % (E.real, E.imag))\n",
    "print(abs(dE))"
   ]
  },
  {
   "cell_type": "code",
   "execution_count": 18,
   "metadata": {},
   "outputs": [
    {
     "name": "stdout",
     "output_type": "stream",
     "text": [
      " 4  E=(5.577484, -5.258559)   L=(11.758195, 3.527790) dE=1.824215e-14\n",
      " 5  E=(4.994710, -3.354643)   L=(13.070174, 3.048151) dE=5.579869e-14\n",
      " 6  E=(3.835033, -2.158891)   L=(14.801895, 2.991378) dE=5.708510e-13\n",
      " 7  E=(4.659993, -2.215275)   L=(14.000000, 2.448980) dE=8.111599e-03\n",
      " 8  E=(4.771663, -2.034718)   L=(14.005551, 2.227597) dE=1.089630e-02\n"
     ]
    }
   ],
   "source": [
    "\"\"\"\n",
    "\n",
    "automatic loop over n\n",
    "\n",
    "I wonder whether this works. The results suck.\n",
    "\n",
    "\"\"\"\n",
    "npts=50\n",
    "Lrs = np.linspace(df.L.values[0], df.L.values[-1], npts)\n",
    "Lis = np.linspace(0.0, 8.0, npts)\n",
    "absdEs = np.zeros([npts,npts])\n",
    "\n",
    "for n in [4, 5, 6, 7, 8]:\n",
    "    A, B, C = pade.genpade2_via_lstsq(n, n, n, LL, Es, rcond=1e-14)\n",
    "    for r in range(npts):\n",
    "        for i in range(npts):\n",
    "            L = [Lrs[r],Lis[i]]\n",
    "            [dEr, dEi] = just_dE(L)\n",
    "            absdEs[i,r] = np.log10(abs(complex(dEr, dEi)))    \n",
    "    (i, r) = np.unravel_index(absdEs.argmin(), absdEs.shape)\n",
    "    L0 = [Lrs[r], Lis[i]]\n",
    "    sol = root(just_dE, L0)\n",
    "    L0 = sol.x\n",
    "    Lstar=complex(L0[0],L0[1])\n",
    "    E, dE = pade.E_plus(Lstar, A, B, C, der=1)\n",
    "    print(\"%2d  E=(%f, %f)   L=(%f, %f) dE=%e\"  % (n,E.real,E.imag,L0[0],L0[1], abs(dE)))"
   ]
  },
  {
   "cell_type": "code",
   "execution_count": null,
   "metadata": {},
   "outputs": [],
   "source": []
  }
 ],
 "metadata": {
  "kernelspec": {
   "display_name": "Python 3",
   "language": "python",
   "name": "python3"
  },
  "language_info": {
   "codemirror_mode": {
    "name": "ipython",
    "version": 3
   },
   "file_extension": ".py",
   "mimetype": "text/x-python",
   "name": "python",
   "nbconvert_exporter": "python",
   "pygments_lexer": "ipython3",
   "version": "3.6.9"
  }
 },
 "nbformat": 4,
 "nbformat_minor": 2
}
